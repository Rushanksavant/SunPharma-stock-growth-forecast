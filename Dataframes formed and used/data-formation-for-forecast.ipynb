{
 "cells": [
  {
   "cell_type": "code",
   "execution_count": 1,
   "id": "unsigned-curve",
   "metadata": {
    "_cell_guid": "b1076dfc-b9ad-4769-8c92-a6c4dae69d19",
    "_uuid": "8f2839f25d086af736a60e9eeb907d3b93b6e0e5",
    "execution": {
     "iopub.execute_input": "2021-04-03T14:17:18.493791Z",
     "iopub.status.busy": "2021-04-03T14:17:18.492689Z",
     "iopub.status.idle": "2021-04-03T14:17:18.496071Z",
     "shell.execute_reply": "2021-04-03T14:17:18.496607Z"
    },
    "papermill": {
     "duration": 0.022062,
     "end_time": "2021-04-03T14:17:18.496901",
     "exception": false,
     "start_time": "2021-04-03T14:17:18.474839",
     "status": "completed"
    },
    "tags": []
   },
   "outputs": [],
   "source": [
    "import pandas as pd"
   ]
  },
  {
   "cell_type": "code",
   "execution_count": 2,
   "id": "incorporate-pricing",
   "metadata": {
    "execution": {
     "iopub.execute_input": "2021-04-03T14:17:18.527397Z",
     "iopub.status.busy": "2021-04-03T14:17:18.526334Z",
     "iopub.status.idle": "2021-04-03T14:17:18.582421Z",
     "shell.execute_reply": "2021-04-03T14:17:18.581786Z"
    },
    "papermill": {
     "duration": 0.072001,
     "end_time": "2021-04-03T14:17:18.582577",
     "exception": false,
     "start_time": "2021-04-03T14:17:18.510576",
     "status": "completed"
    },
    "tags": []
   },
   "outputs": [
    {
     "data": {
      "text/html": [
       "<div>\n",
       "<style scoped>\n",
       "    .dataframe tbody tr th:only-of-type {\n",
       "        vertical-align: middle;\n",
       "    }\n",
       "\n",
       "    .dataframe tbody tr th {\n",
       "        vertical-align: top;\n",
       "    }\n",
       "\n",
       "    .dataframe thead th {\n",
       "        text-align: right;\n",
       "    }\n",
       "</style>\n",
       "<table border=\"1\" class=\"dataframe\">\n",
       "  <thead>\n",
       "    <tr style=\"text-align: right;\">\n",
       "      <th></th>\n",
       "      <th>Date</th>\n",
       "      <th>Open</th>\n",
       "      <th>High</th>\n",
       "      <th>Low</th>\n",
       "      <th>Close</th>\n",
       "      <th>Adj Close</th>\n",
       "      <th>Volume</th>\n",
       "    </tr>\n",
       "  </thead>\n",
       "  <tbody>\n",
       "    <tr>\n",
       "      <th>0</th>\n",
       "      <td>2009-12-01</td>\n",
       "      <td>145.354996</td>\n",
       "      <td>155.500000</td>\n",
       "      <td>145.354996</td>\n",
       "      <td>153.990005</td>\n",
       "      <td>144.129593</td>\n",
       "      <td>4338810.0</td>\n",
       "    </tr>\n",
       "    <tr>\n",
       "      <th>1</th>\n",
       "      <td>2009-12-02</td>\n",
       "      <td>156.399994</td>\n",
       "      <td>160.000000</td>\n",
       "      <td>148.660004</td>\n",
       "      <td>149.720001</td>\n",
       "      <td>140.133011</td>\n",
       "      <td>4689480.0</td>\n",
       "    </tr>\n",
       "    <tr>\n",
       "      <th>2</th>\n",
       "      <td>2009-12-03</td>\n",
       "      <td>150.014999</td>\n",
       "      <td>152.100006</td>\n",
       "      <td>148.750000</td>\n",
       "      <td>149.475006</td>\n",
       "      <td>139.903687</td>\n",
       "      <td>2534030.0</td>\n",
       "    </tr>\n",
       "    <tr>\n",
       "      <th>3</th>\n",
       "      <td>2009-12-04</td>\n",
       "      <td>148.500000</td>\n",
       "      <td>150.880005</td>\n",
       "      <td>145.110001</td>\n",
       "      <td>148.270004</td>\n",
       "      <td>138.775833</td>\n",
       "      <td>1216690.0</td>\n",
       "    </tr>\n",
       "    <tr>\n",
       "      <th>4</th>\n",
       "      <td>2009-12-07</td>\n",
       "      <td>148.509995</td>\n",
       "      <td>149.789993</td>\n",
       "      <td>144.110001</td>\n",
       "      <td>145.190002</td>\n",
       "      <td>135.893051</td>\n",
       "      <td>1559620.0</td>\n",
       "    </tr>\n",
       "  </tbody>\n",
       "</table>\n",
       "</div>"
      ],
      "text/plain": [
       "         Date        Open        High         Low       Close   Adj Close  \\\n",
       "0  2009-12-01  145.354996  155.500000  145.354996  153.990005  144.129593   \n",
       "1  2009-12-02  156.399994  160.000000  148.660004  149.720001  140.133011   \n",
       "2  2009-12-03  150.014999  152.100006  148.750000  149.475006  139.903687   \n",
       "3  2009-12-04  148.500000  150.880005  145.110001  148.270004  138.775833   \n",
       "4  2009-12-07  148.509995  149.789993  144.110001  145.190002  135.893051   \n",
       "\n",
       "      Volume  \n",
       "0  4338810.0  \n",
       "1  4689480.0  \n",
       "2  2534030.0  \n",
       "3  1216690.0  \n",
       "4  1559620.0  "
      ]
     },
     "execution_count": 2,
     "metadata": {},
     "output_type": "execute_result"
    }
   ],
   "source": [
    "data= pd.read_csv(\"../input/sunpharmastockdata/SUNPHARMA.csv\")\n",
    "data.head()"
   ]
  },
  {
   "cell_type": "code",
   "execution_count": 3,
   "id": "verified-estonia",
   "metadata": {
    "execution": {
     "iopub.execute_input": "2021-04-03T14:17:18.629592Z",
     "iopub.status.busy": "2021-04-03T14:17:18.628908Z",
     "iopub.status.idle": "2021-04-03T14:17:18.633655Z",
     "shell.execute_reply": "2021-04-03T14:17:18.633142Z"
    },
    "papermill": {
     "duration": 0.037839,
     "end_time": "2021-04-03T14:17:18.633813",
     "exception": false,
     "start_time": "2021-04-03T14:17:18.595974",
     "status": "completed"
    },
    "tags": []
   },
   "outputs": [
    {
     "name": "stdout",
     "output_type": "stream",
     "text": [
      "<class 'pandas.core.frame.DataFrame'>\n",
      "RangeIndex: 2801 entries, 0 to 2800\n",
      "Data columns (total 7 columns):\n",
      " #   Column     Non-Null Count  Dtype  \n",
      "---  ------     --------------  -----  \n",
      " 0   Date       2801 non-null   object \n",
      " 1   Open       2787 non-null   float64\n",
      " 2   High       2787 non-null   float64\n",
      " 3   Low        2787 non-null   float64\n",
      " 4   Close      2787 non-null   float64\n",
      " 5   Adj Close  2787 non-null   float64\n",
      " 6   Volume     2787 non-null   float64\n",
      "dtypes: float64(6), object(1)\n",
      "memory usage: 153.3+ KB\n"
     ]
    }
   ],
   "source": [
    "data.info()"
   ]
  },
  {
   "cell_type": "code",
   "execution_count": 4,
   "id": "basic-replication",
   "metadata": {
    "execution": {
     "iopub.execute_input": "2021-04-03T14:17:18.668754Z",
     "iopub.status.busy": "2021-04-03T14:17:18.667766Z",
     "iopub.status.idle": "2021-04-03T14:17:18.694141Z",
     "shell.execute_reply": "2021-04-03T14:17:18.693609Z"
    },
    "papermill": {
     "duration": 0.046583,
     "end_time": "2021-04-03T14:17:18.694300",
     "exception": false,
     "start_time": "2021-04-03T14:17:18.647717",
     "status": "completed"
    },
    "tags": []
   },
   "outputs": [],
   "source": [
    "data= data.dropna()  # Drop rows with Nan \n",
    "data.reset_index(drop=True, inplace=True) # Reset index after droping rows"
   ]
  },
  {
   "cell_type": "code",
   "execution_count": 5,
   "id": "amber-compilation",
   "metadata": {
    "execution": {
     "iopub.execute_input": "2021-04-03T14:17:18.729363Z",
     "iopub.status.busy": "2021-04-03T14:17:18.728455Z",
     "iopub.status.idle": "2021-04-03T14:17:18.733667Z",
     "shell.execute_reply": "2021-04-03T14:17:18.733022Z"
    },
    "papermill": {
     "duration": 0.025918,
     "end_time": "2021-04-03T14:17:18.733812",
     "exception": false,
     "start_time": "2021-04-03T14:17:18.707894",
     "status": "completed"
    },
    "tags": []
   },
   "outputs": [
    {
     "data": {
      "text/plain": [
       "Date         False\n",
       "Open         False\n",
       "High         False\n",
       "Low          False\n",
       "Close        False\n",
       "Adj Close    False\n",
       "Volume       False\n",
       "dtype: bool"
      ]
     },
     "execution_count": 5,
     "metadata": {},
     "output_type": "execute_result"
    }
   ],
   "source": [
    "data.isna().any() # Verifying"
   ]
  },
  {
   "cell_type": "code",
   "execution_count": 6,
   "id": "automatic-weekly",
   "metadata": {
    "execution": {
     "iopub.execute_input": "2021-04-03T14:17:18.769705Z",
     "iopub.status.busy": "2021-04-03T14:17:18.768833Z",
     "iopub.status.idle": "2021-04-03T14:17:18.773952Z",
     "shell.execute_reply": "2021-04-03T14:17:18.774450Z"
    },
    "papermill": {
     "duration": 0.024663,
     "end_time": "2021-04-03T14:17:18.774662",
     "exception": false,
     "start_time": "2021-04-03T14:17:18.749999",
     "status": "completed"
    },
    "tags": []
   },
   "outputs": [
    {
     "data": {
      "text/plain": [
       "2787"
      ]
     },
     "execution_count": 6,
     "metadata": {},
     "output_type": "execute_result"
    }
   ],
   "source": [
    "len(data) # Size of new dataset"
   ]
  },
  {
   "cell_type": "markdown",
   "id": "compound-precipitation",
   "metadata": {
    "papermill": {
     "duration": 0.013374,
     "end_time": "2021-04-03T14:17:18.802129",
     "exception": false,
     "start_time": "2021-04-03T14:17:18.788755",
     "status": "completed"
    },
    "tags": []
   },
   "source": [
    "# Approch\n",
    "We will calculate the % growth for the required time stamps(1- previous day, 30- month) and add them to a new coloumn of the data set.\n",
    "For time stamp= 1\n",
    "the first row of dataset needs to be deleted, because for 2010-01-04 there is no previous day present in the dataset\n",
    "\n",
    "Similarlly for time stamp=30\n",
    "first 30 rows will be deleted to calculate % growth"
   ]
  },
  {
   "cell_type": "markdown",
   "id": "primary-reader",
   "metadata": {
    "papermill": {
     "duration": 0.013488,
     "end_time": "2021-04-03T14:17:18.829361",
     "exception": false,
     "start_time": "2021-04-03T14:17:18.815873",
     "status": "completed"
    },
    "tags": []
   },
   "source": [
    "# For Time stamp = 1"
   ]
  },
  {
   "cell_type": "code",
   "execution_count": 7,
   "id": "prepared-fluid",
   "metadata": {
    "execution": {
     "iopub.execute_input": "2021-04-03T14:17:18.864745Z",
     "iopub.status.busy": "2021-04-03T14:17:18.864088Z",
     "iopub.status.idle": "2021-04-03T14:17:18.866842Z",
     "shell.execute_reply": "2021-04-03T14:17:18.866332Z"
    },
    "papermill": {
     "duration": 0.022906,
     "end_time": "2021-04-03T14:17:18.866984",
     "exception": false,
     "start_time": "2021-04-03T14:17:18.844078",
     "status": "completed"
    },
    "tags": []
   },
   "outputs": [],
   "source": [
    "data1= data.copy()"
   ]
  },
  {
   "cell_type": "code",
   "execution_count": 8,
   "id": "dated-silicon",
   "metadata": {
    "execution": {
     "iopub.execute_input": "2021-04-03T14:17:18.908023Z",
     "iopub.status.busy": "2021-04-03T14:17:18.907268Z",
     "iopub.status.idle": "2021-04-03T14:17:18.917999Z",
     "shell.execute_reply": "2021-04-03T14:17:18.918628Z"
    },
    "papermill": {
     "duration": 0.037801,
     "end_time": "2021-04-03T14:17:18.918842",
     "exception": false,
     "start_time": "2021-04-03T14:17:18.881041",
     "status": "completed"
    },
    "tags": []
   },
   "outputs": [
    {
     "data": {
      "text/html": [
       "<div>\n",
       "<style scoped>\n",
       "    .dataframe tbody tr th:only-of-type {\n",
       "        vertical-align: middle;\n",
       "    }\n",
       "\n",
       "    .dataframe tbody tr th {\n",
       "        vertical-align: top;\n",
       "    }\n",
       "\n",
       "    .dataframe thead th {\n",
       "        text-align: right;\n",
       "    }\n",
       "</style>\n",
       "<table border=\"1\" class=\"dataframe\">\n",
       "  <thead>\n",
       "    <tr style=\"text-align: right;\">\n",
       "      <th></th>\n",
       "      <th>Date</th>\n",
       "      <th>Open</th>\n",
       "      <th>High</th>\n",
       "      <th>Low</th>\n",
       "      <th>Close</th>\n",
       "      <th>Adj Close</th>\n",
       "      <th>Volume</th>\n",
       "    </tr>\n",
       "  </thead>\n",
       "  <tbody>\n",
       "    <tr>\n",
       "      <th>2782</th>\n",
       "      <td>2021-03-23</td>\n",
       "      <td>591.200012</td>\n",
       "      <td>594.700012</td>\n",
       "      <td>583.000000</td>\n",
       "      <td>587.849976</td>\n",
       "      <td>587.849976</td>\n",
       "      <td>5341729.0</td>\n",
       "    </tr>\n",
       "    <tr>\n",
       "      <th>2783</th>\n",
       "      <td>2021-03-24</td>\n",
       "      <td>585.000000</td>\n",
       "      <td>597.000000</td>\n",
       "      <td>583.200012</td>\n",
       "      <td>585.299988</td>\n",
       "      <td>585.299988</td>\n",
       "      <td>7299582.0</td>\n",
       "    </tr>\n",
       "    <tr>\n",
       "      <th>2784</th>\n",
       "      <td>2021-03-25</td>\n",
       "      <td>584.400024</td>\n",
       "      <td>587.950012</td>\n",
       "      <td>571.500000</td>\n",
       "      <td>575.750000</td>\n",
       "      <td>575.750000</td>\n",
       "      <td>4710869.0</td>\n",
       "    </tr>\n",
       "    <tr>\n",
       "      <th>2785</th>\n",
       "      <td>2021-03-26</td>\n",
       "      <td>580.849976</td>\n",
       "      <td>590.299988</td>\n",
       "      <td>574.599976</td>\n",
       "      <td>587.200012</td>\n",
       "      <td>587.200012</td>\n",
       "      <td>5761818.0</td>\n",
       "    </tr>\n",
       "    <tr>\n",
       "      <th>2786</th>\n",
       "      <td>2021-03-30</td>\n",
       "      <td>594.950012</td>\n",
       "      <td>599.000000</td>\n",
       "      <td>587.250000</td>\n",
       "      <td>597.700012</td>\n",
       "      <td>597.700012</td>\n",
       "      <td>4637718.0</td>\n",
       "    </tr>\n",
       "  </tbody>\n",
       "</table>\n",
       "</div>"
      ],
      "text/plain": [
       "            Date        Open        High         Low       Close   Adj Close  \\\n",
       "2782  2021-03-23  591.200012  594.700012  583.000000  587.849976  587.849976   \n",
       "2783  2021-03-24  585.000000  597.000000  583.200012  585.299988  585.299988   \n",
       "2784  2021-03-25  584.400024  587.950012  571.500000  575.750000  575.750000   \n",
       "2785  2021-03-26  580.849976  590.299988  574.599976  587.200012  587.200012   \n",
       "2786  2021-03-30  594.950012  599.000000  587.250000  597.700012  597.700012   \n",
       "\n",
       "         Volume  \n",
       "2782  5341729.0  \n",
       "2783  7299582.0  \n",
       "2784  4710869.0  \n",
       "2785  5761818.0  \n",
       "2786  4637718.0  "
      ]
     },
     "execution_count": 8,
     "metadata": {},
     "output_type": "execute_result"
    }
   ],
   "source": [
    "data1.tail()"
   ]
  },
  {
   "cell_type": "code",
   "execution_count": 9,
   "id": "inner-processing",
   "metadata": {
    "execution": {
     "iopub.execute_input": "2021-04-03T14:17:18.952052Z",
     "iopub.status.busy": "2021-04-03T14:17:18.951330Z",
     "iopub.status.idle": "2021-04-03T14:17:18.991880Z",
     "shell.execute_reply": "2021-04-03T14:17:18.992384Z"
    },
    "papermill": {
     "duration": 0.058608,
     "end_time": "2021-04-03T14:17:18.992611",
     "exception": false,
     "start_time": "2021-04-03T14:17:18.934003",
     "status": "completed"
    },
    "tags": []
   },
   "outputs": [],
   "source": [
    "# 1 day % rate calculation\n",
    "percent=[]\n",
    "for i in range(len(data1)):\n",
    "    if i+1<len(data1):\n",
    "        p0= data1[\"Close\"][i]\n",
    "        p1= data1[\"Close\"][i+1]\n",
    "        \n",
    "        percent.append(((p1-p0)/p0)*100)"
   ]
  },
  {
   "cell_type": "code",
   "execution_count": 10,
   "id": "reserved-configuration",
   "metadata": {
    "execution": {
     "iopub.execute_input": "2021-04-03T14:17:19.027132Z",
     "iopub.status.busy": "2021-04-03T14:17:19.026346Z",
     "iopub.status.idle": "2021-04-03T14:17:19.041418Z",
     "shell.execute_reply": "2021-04-03T14:17:19.040759Z"
    },
    "papermill": {
     "duration": 0.032749,
     "end_time": "2021-04-03T14:17:19.041579",
     "exception": false,
     "start_time": "2021-04-03T14:17:19.008830",
     "status": "completed"
    },
    "tags": []
   },
   "outputs": [
    {
     "data": {
      "text/html": [
       "<div>\n",
       "<style scoped>\n",
       "    .dataframe tbody tr th:only-of-type {\n",
       "        vertical-align: middle;\n",
       "    }\n",
       "\n",
       "    .dataframe tbody tr th {\n",
       "        vertical-align: top;\n",
       "    }\n",
       "\n",
       "    .dataframe thead th {\n",
       "        text-align: right;\n",
       "    }\n",
       "</style>\n",
       "<table border=\"1\" class=\"dataframe\">\n",
       "  <thead>\n",
       "    <tr style=\"text-align: right;\">\n",
       "      <th></th>\n",
       "      <th>Date</th>\n",
       "      <th>Open</th>\n",
       "      <th>High</th>\n",
       "      <th>Low</th>\n",
       "      <th>Close</th>\n",
       "      <th>Adj Close</th>\n",
       "      <th>Volume</th>\n",
       "    </tr>\n",
       "  </thead>\n",
       "  <tbody>\n",
       "    <tr>\n",
       "      <th>1</th>\n",
       "      <td>2009-12-02</td>\n",
       "      <td>156.399994</td>\n",
       "      <td>160.000000</td>\n",
       "      <td>148.660004</td>\n",
       "      <td>149.720001</td>\n",
       "      <td>140.133011</td>\n",
       "      <td>4689480.0</td>\n",
       "    </tr>\n",
       "    <tr>\n",
       "      <th>2</th>\n",
       "      <td>2009-12-03</td>\n",
       "      <td>150.014999</td>\n",
       "      <td>152.100006</td>\n",
       "      <td>148.750000</td>\n",
       "      <td>149.475006</td>\n",
       "      <td>139.903687</td>\n",
       "      <td>2534030.0</td>\n",
       "    </tr>\n",
       "    <tr>\n",
       "      <th>3</th>\n",
       "      <td>2009-12-04</td>\n",
       "      <td>148.500000</td>\n",
       "      <td>150.880005</td>\n",
       "      <td>145.110001</td>\n",
       "      <td>148.270004</td>\n",
       "      <td>138.775833</td>\n",
       "      <td>1216690.0</td>\n",
       "    </tr>\n",
       "    <tr>\n",
       "      <th>4</th>\n",
       "      <td>2009-12-07</td>\n",
       "      <td>148.509995</td>\n",
       "      <td>149.789993</td>\n",
       "      <td>144.110001</td>\n",
       "      <td>145.190002</td>\n",
       "      <td>135.893051</td>\n",
       "      <td>1559620.0</td>\n",
       "    </tr>\n",
       "    <tr>\n",
       "      <th>5</th>\n",
       "      <td>2009-12-08</td>\n",
       "      <td>145.300003</td>\n",
       "      <td>148.199997</td>\n",
       "      <td>144.535004</td>\n",
       "      <td>146.479996</td>\n",
       "      <td>137.100494</td>\n",
       "      <td>1795420.0</td>\n",
       "    </tr>\n",
       "  </tbody>\n",
       "</table>\n",
       "</div>"
      ],
      "text/plain": [
       "         Date        Open        High         Low       Close   Adj Close  \\\n",
       "1  2009-12-02  156.399994  160.000000  148.660004  149.720001  140.133011   \n",
       "2  2009-12-03  150.014999  152.100006  148.750000  149.475006  139.903687   \n",
       "3  2009-12-04  148.500000  150.880005  145.110001  148.270004  138.775833   \n",
       "4  2009-12-07  148.509995  149.789993  144.110001  145.190002  135.893051   \n",
       "5  2009-12-08  145.300003  148.199997  144.535004  146.479996  137.100494   \n",
       "\n",
       "      Volume  \n",
       "1  4689480.0  \n",
       "2  2534030.0  \n",
       "3  1216690.0  \n",
       "4  1559620.0  \n",
       "5  1795420.0  "
      ]
     },
     "execution_count": 10,
     "metadata": {},
     "output_type": "execute_result"
    }
   ],
   "source": [
    "# Drop 1st row of data1\n",
    "data1= data1.iloc[1:, :]\n",
    "data1.head()"
   ]
  },
  {
   "cell_type": "code",
   "execution_count": 11,
   "id": "manufactured-style",
   "metadata": {
    "execution": {
     "iopub.execute_input": "2021-04-03T14:17:19.078438Z",
     "iopub.status.busy": "2021-04-03T14:17:19.077818Z",
     "iopub.status.idle": "2021-04-03T14:17:19.081756Z",
     "shell.execute_reply": "2021-04-03T14:17:19.080911Z"
    },
    "papermill": {
     "duration": 0.024955,
     "end_time": "2021-04-03T14:17:19.081912",
     "exception": false,
     "start_time": "2021-04-03T14:17:19.056957",
     "status": "completed"
    },
    "tags": []
   },
   "outputs": [],
   "source": [
    "# Adding percent column to data1\n",
    "data1[\"Growth% of Close from previous day\"]= percent"
   ]
  },
  {
   "cell_type": "code",
   "execution_count": 12,
   "id": "industrial-composite",
   "metadata": {
    "execution": {
     "iopub.execute_input": "2021-04-03T14:17:19.128416Z",
     "iopub.status.busy": "2021-04-03T14:17:19.127761Z",
     "iopub.status.idle": "2021-04-03T14:17:19.130878Z",
     "shell.execute_reply": "2021-04-03T14:17:19.131386Z"
    },
    "papermill": {
     "duration": 0.034099,
     "end_time": "2021-04-03T14:17:19.131580",
     "exception": false,
     "start_time": "2021-04-03T14:17:19.097481",
     "status": "completed"
    },
    "tags": []
   },
   "outputs": [
    {
     "data": {
      "text/html": [
       "<div>\n",
       "<style scoped>\n",
       "    .dataframe tbody tr th:only-of-type {\n",
       "        vertical-align: middle;\n",
       "    }\n",
       "\n",
       "    .dataframe tbody tr th {\n",
       "        vertical-align: top;\n",
       "    }\n",
       "\n",
       "    .dataframe thead th {\n",
       "        text-align: right;\n",
       "    }\n",
       "</style>\n",
       "<table border=\"1\" class=\"dataframe\">\n",
       "  <thead>\n",
       "    <tr style=\"text-align: right;\">\n",
       "      <th></th>\n",
       "      <th>Open</th>\n",
       "      <th>High</th>\n",
       "      <th>Low</th>\n",
       "      <th>Close</th>\n",
       "      <th>Adj Close</th>\n",
       "      <th>Volume</th>\n",
       "      <th>Growth% of Close from previous day</th>\n",
       "    </tr>\n",
       "    <tr>\n",
       "      <th>Date</th>\n",
       "      <th></th>\n",
       "      <th></th>\n",
       "      <th></th>\n",
       "      <th></th>\n",
       "      <th></th>\n",
       "      <th></th>\n",
       "      <th></th>\n",
       "    </tr>\n",
       "  </thead>\n",
       "  <tbody>\n",
       "    <tr>\n",
       "      <th>2009-12-02</th>\n",
       "      <td>156.399994</td>\n",
       "      <td>160.000000</td>\n",
       "      <td>148.660004</td>\n",
       "      <td>149.720001</td>\n",
       "      <td>140.133011</td>\n",
       "      <td>4689480.0</td>\n",
       "      <td>-2.772910</td>\n",
       "    </tr>\n",
       "    <tr>\n",
       "      <th>2009-12-03</th>\n",
       "      <td>150.014999</td>\n",
       "      <td>152.100006</td>\n",
       "      <td>148.750000</td>\n",
       "      <td>149.475006</td>\n",
       "      <td>139.903687</td>\n",
       "      <td>2534030.0</td>\n",
       "      <td>-0.163635</td>\n",
       "    </tr>\n",
       "    <tr>\n",
       "      <th>2009-12-04</th>\n",
       "      <td>148.500000</td>\n",
       "      <td>150.880005</td>\n",
       "      <td>145.110001</td>\n",
       "      <td>148.270004</td>\n",
       "      <td>138.775833</td>\n",
       "      <td>1216690.0</td>\n",
       "      <td>-0.806156</td>\n",
       "    </tr>\n",
       "    <tr>\n",
       "      <th>2009-12-07</th>\n",
       "      <td>148.509995</td>\n",
       "      <td>149.789993</td>\n",
       "      <td>144.110001</td>\n",
       "      <td>145.190002</td>\n",
       "      <td>135.893051</td>\n",
       "      <td>1559620.0</td>\n",
       "      <td>-2.077293</td>\n",
       "    </tr>\n",
       "    <tr>\n",
       "      <th>2009-12-08</th>\n",
       "      <td>145.300003</td>\n",
       "      <td>148.199997</td>\n",
       "      <td>144.535004</td>\n",
       "      <td>146.479996</td>\n",
       "      <td>137.100494</td>\n",
       "      <td>1795420.0</td>\n",
       "      <td>0.888487</td>\n",
       "    </tr>\n",
       "  </tbody>\n",
       "</table>\n",
       "</div>"
      ],
      "text/plain": [
       "                  Open        High         Low       Close   Adj Close  \\\n",
       "Date                                                                     \n",
       "2009-12-02  156.399994  160.000000  148.660004  149.720001  140.133011   \n",
       "2009-12-03  150.014999  152.100006  148.750000  149.475006  139.903687   \n",
       "2009-12-04  148.500000  150.880005  145.110001  148.270004  138.775833   \n",
       "2009-12-07  148.509995  149.789993  144.110001  145.190002  135.893051   \n",
       "2009-12-08  145.300003  148.199997  144.535004  146.479996  137.100494   \n",
       "\n",
       "               Volume  Growth% of Close from previous day  \n",
       "Date                                                       \n",
       "2009-12-02  4689480.0                           -2.772910  \n",
       "2009-12-03  2534030.0                           -0.163635  \n",
       "2009-12-04  1216690.0                           -0.806156  \n",
       "2009-12-07  1559620.0                           -2.077293  \n",
       "2009-12-08  1795420.0                            0.888487  "
      ]
     },
     "execution_count": 12,
     "metadata": {},
     "output_type": "execute_result"
    }
   ],
   "source": [
    "# Setting Date as index\n",
    "data1.set_index(\"Date\", inplace = True)\n",
    "data1.head()"
   ]
  },
  {
   "cell_type": "markdown",
   "id": "announced-audio",
   "metadata": {
    "papermill": {
     "duration": 0.015383,
     "end_time": "2021-04-03T14:17:19.163419",
     "exception": false,
     "start_time": "2021-04-03T14:17:19.148036",
     "status": "completed"
    },
    "tags": []
   },
   "source": [
    "### Saving the dataset..."
   ]
  },
  {
   "cell_type": "code",
   "execution_count": 13,
   "id": "transsexual-lighter",
   "metadata": {
    "execution": {
     "iopub.execute_input": "2021-04-03T14:17:19.199615Z",
     "iopub.status.busy": "2021-04-03T14:17:19.198995Z",
     "iopub.status.idle": "2021-04-03T14:17:19.228310Z",
     "shell.execute_reply": "2021-04-03T14:17:19.227634Z"
    },
    "papermill": {
     "duration": 0.048288,
     "end_time": "2021-04-03T14:17:19.228460",
     "exception": false,
     "start_time": "2021-04-03T14:17:19.180172",
     "status": "completed"
    },
    "tags": []
   },
   "outputs": [],
   "source": [
    "data1.to_csv(\"PreviousDayClose%.csv\", index=True)"
   ]
  },
  {
   "cell_type": "markdown",
   "id": "secondary-mystery",
   "metadata": {
    "papermill": {
     "duration": 0.015618,
     "end_time": "2021-04-03T14:17:19.260310",
     "exception": false,
     "start_time": "2021-04-03T14:17:19.244692",
     "status": "completed"
    },
    "tags": []
   },
   "source": [
    "# For Time stamp = 30\n",
    "similar code....."
   ]
  },
  {
   "cell_type": "code",
   "execution_count": 14,
   "id": "particular-adolescent",
   "metadata": {
    "execution": {
     "iopub.execute_input": "2021-04-03T14:17:19.295389Z",
     "iopub.status.busy": "2021-04-03T14:17:19.294685Z",
     "iopub.status.idle": "2021-04-03T14:17:19.299993Z",
     "shell.execute_reply": "2021-04-03T14:17:19.299497Z"
    },
    "papermill": {
     "duration": 0.023945,
     "end_time": "2021-04-03T14:17:19.300214",
     "exception": false,
     "start_time": "2021-04-03T14:17:19.276269",
     "status": "completed"
    },
    "tags": []
   },
   "outputs": [],
   "source": [
    "data2= data.copy()\n"
   ]
  },
  {
   "cell_type": "code",
   "execution_count": 15,
   "id": "checked-registration",
   "metadata": {
    "execution": {
     "iopub.execute_input": "2021-04-03T14:17:19.373617Z",
     "iopub.status.busy": "2021-04-03T14:17:19.363820Z",
     "iopub.status.idle": "2021-04-03T14:17:19.377386Z",
     "shell.execute_reply": "2021-04-03T14:17:19.376884Z"
    },
    "papermill": {
     "duration": 0.061451,
     "end_time": "2021-04-03T14:17:19.377542",
     "exception": false,
     "start_time": "2021-04-03T14:17:19.316091",
     "status": "completed"
    },
    "tags": []
   },
   "outputs": [],
   "source": [
    "# Growth calculation for ecery 30 active days\n",
    "percent=[]\n",
    "for i in range(len(data2)):\n",
    "    if i+30<len(data2):\n",
    "        p0= data2[\"Close\"][i]\n",
    "        p1= data2[\"Close\"][i+30]\n",
    "        \n",
    "        percent.append(((p1-p0)/p0)*100)"
   ]
  },
  {
   "cell_type": "code",
   "execution_count": 16,
   "id": "moved-nurse",
   "metadata": {
    "execution": {
     "iopub.execute_input": "2021-04-03T14:17:19.415062Z",
     "iopub.status.busy": "2021-04-03T14:17:19.414076Z",
     "iopub.status.idle": "2021-04-03T14:17:19.419043Z",
     "shell.execute_reply": "2021-04-03T14:17:19.418311Z"
    },
    "papermill": {
     "duration": 0.025341,
     "end_time": "2021-04-03T14:17:19.419183",
     "exception": false,
     "start_time": "2021-04-03T14:17:19.393842",
     "status": "completed"
    },
    "tags": []
   },
   "outputs": [
    {
     "data": {
      "text/plain": [
       "2757"
      ]
     },
     "execution_count": 16,
     "metadata": {},
     "output_type": "execute_result"
    }
   ],
   "source": [
    "len(percent)"
   ]
  },
  {
   "cell_type": "code",
   "execution_count": 17,
   "id": "peripheral-bowling",
   "metadata": {
    "execution": {
     "iopub.execute_input": "2021-04-03T14:17:19.458186Z",
     "iopub.status.busy": "2021-04-03T14:17:19.457106Z",
     "iopub.status.idle": "2021-04-03T14:17:19.462123Z",
     "shell.execute_reply": "2021-04-03T14:17:19.461512Z"
    },
    "papermill": {
     "duration": 0.02665,
     "end_time": "2021-04-03T14:17:19.462257",
     "exception": false,
     "start_time": "2021-04-03T14:17:19.435607",
     "status": "completed"
    },
    "tags": []
   },
   "outputs": [
    {
     "data": {
      "text/plain": [
       "2757"
      ]
     },
     "execution_count": 17,
     "metadata": {},
     "output_type": "execute_result"
    }
   ],
   "source": [
    "# Drop 1st row of data1\n",
    "data2= data.iloc[30:, :]\n",
    "len(data2)"
   ]
  },
  {
   "cell_type": "code",
   "execution_count": 18,
   "id": "informational-pearl",
   "metadata": {
    "execution": {
     "iopub.execute_input": "2021-04-03T14:17:19.502513Z",
     "iopub.status.busy": "2021-04-03T14:17:19.501659Z",
     "iopub.status.idle": "2021-04-03T14:17:19.504808Z",
     "shell.execute_reply": "2021-04-03T14:17:19.505264Z"
    },
    "papermill": {
     "duration": 0.026423,
     "end_time": "2021-04-03T14:17:19.505427",
     "exception": false,
     "start_time": "2021-04-03T14:17:19.479004",
     "status": "completed"
    },
    "tags": []
   },
   "outputs": [
    {
     "name": "stderr",
     "output_type": "stream",
     "text": [
      "/opt/conda/lib/python3.7/site-packages/ipykernel_launcher.py:2: SettingWithCopyWarning: \n",
      "A value is trying to be set on a copy of a slice from a DataFrame.\n",
      "Try using .loc[row_indexer,col_indexer] = value instead\n",
      "\n",
      "See the caveats in the documentation: https://pandas.pydata.org/pandas-docs/stable/user_guide/indexing.html#returning-a-view-versus-a-copy\n",
      "  \n"
     ]
    }
   ],
   "source": [
    "# Adding percent column to data1\n",
    "data2[\"Growth% of Close from previous 30 days\"]= percent"
   ]
  },
  {
   "cell_type": "code",
   "execution_count": 19,
   "id": "interracial-watts",
   "metadata": {
    "execution": {
     "iopub.execute_input": "2021-04-03T14:17:19.548600Z",
     "iopub.status.busy": "2021-04-03T14:17:19.547937Z",
     "iopub.status.idle": "2021-04-03T14:17:19.557691Z",
     "shell.execute_reply": "2021-04-03T14:17:19.557048Z"
    },
    "papermill": {
     "duration": 0.035725,
     "end_time": "2021-04-03T14:17:19.557831",
     "exception": false,
     "start_time": "2021-04-03T14:17:19.522106",
     "status": "completed"
    },
    "tags": []
   },
   "outputs": [
    {
     "data": {
      "text/html": [
       "<div>\n",
       "<style scoped>\n",
       "    .dataframe tbody tr th:only-of-type {\n",
       "        vertical-align: middle;\n",
       "    }\n",
       "\n",
       "    .dataframe tbody tr th {\n",
       "        vertical-align: top;\n",
       "    }\n",
       "\n",
       "    .dataframe thead th {\n",
       "        text-align: right;\n",
       "    }\n",
       "</style>\n",
       "<table border=\"1\" class=\"dataframe\">\n",
       "  <thead>\n",
       "    <tr style=\"text-align: right;\">\n",
       "      <th></th>\n",
       "      <th>Open</th>\n",
       "      <th>High</th>\n",
       "      <th>Low</th>\n",
       "      <th>Close</th>\n",
       "      <th>Adj Close</th>\n",
       "      <th>Volume</th>\n",
       "      <th>Growth% of Close from previous 30 days</th>\n",
       "    </tr>\n",
       "    <tr>\n",
       "      <th>Date</th>\n",
       "      <th></th>\n",
       "      <th></th>\n",
       "      <th></th>\n",
       "      <th></th>\n",
       "      <th></th>\n",
       "      <th></th>\n",
       "      <th></th>\n",
       "    </tr>\n",
       "  </thead>\n",
       "  <tbody>\n",
       "    <tr>\n",
       "      <th>2010-01-22</th>\n",
       "      <td>145.000000</td>\n",
       "      <td>145.000000</td>\n",
       "      <td>140.000000</td>\n",
       "      <td>143.199997</td>\n",
       "      <td>134.030457</td>\n",
       "      <td>3423490.0</td>\n",
       "      <td>-7.006953</td>\n",
       "    </tr>\n",
       "    <tr>\n",
       "      <th>2010-01-25</th>\n",
       "      <td>144.449997</td>\n",
       "      <td>145.600006</td>\n",
       "      <td>140.000000</td>\n",
       "      <td>144.449997</td>\n",
       "      <td>135.200455</td>\n",
       "      <td>2196320.0</td>\n",
       "      <td>-3.519906</td>\n",
       "    </tr>\n",
       "    <tr>\n",
       "      <th>2010-01-27</th>\n",
       "      <td>143.600006</td>\n",
       "      <td>144.485001</td>\n",
       "      <td>140.289993</td>\n",
       "      <td>142.100006</td>\n",
       "      <td>133.000931</td>\n",
       "      <td>2767580.0</td>\n",
       "      <td>-4.933935</td>\n",
       "    </tr>\n",
       "    <tr>\n",
       "      <th>2010-01-28</th>\n",
       "      <td>142.500000</td>\n",
       "      <td>148.994995</td>\n",
       "      <td>141.009995</td>\n",
       "      <td>144.619995</td>\n",
       "      <td>135.359573</td>\n",
       "      <td>3399690.0</td>\n",
       "      <td>-2.461731</td>\n",
       "    </tr>\n",
       "    <tr>\n",
       "      <th>2010-01-29</th>\n",
       "      <td>142.000000</td>\n",
       "      <td>152.500000</td>\n",
       "      <td>142.000000</td>\n",
       "      <td>147.304993</td>\n",
       "      <td>137.872635</td>\n",
       "      <td>3314050.0</td>\n",
       "      <td>1.456706</td>\n",
       "    </tr>\n",
       "  </tbody>\n",
       "</table>\n",
       "</div>"
      ],
      "text/plain": [
       "                  Open        High         Low       Close   Adj Close  \\\n",
       "Date                                                                     \n",
       "2010-01-22  145.000000  145.000000  140.000000  143.199997  134.030457   \n",
       "2010-01-25  144.449997  145.600006  140.000000  144.449997  135.200455   \n",
       "2010-01-27  143.600006  144.485001  140.289993  142.100006  133.000931   \n",
       "2010-01-28  142.500000  148.994995  141.009995  144.619995  135.359573   \n",
       "2010-01-29  142.000000  152.500000  142.000000  147.304993  137.872635   \n",
       "\n",
       "               Volume  Growth% of Close from previous 30 days  \n",
       "Date                                                           \n",
       "2010-01-22  3423490.0                               -7.006953  \n",
       "2010-01-25  2196320.0                               -3.519906  \n",
       "2010-01-27  2767580.0                               -4.933935  \n",
       "2010-01-28  3399690.0                               -2.461731  \n",
       "2010-01-29  3314050.0                                1.456706  "
      ]
     },
     "execution_count": 19,
     "metadata": {},
     "output_type": "execute_result"
    }
   ],
   "source": [
    "# Setting Date as new index\n",
    "data2.set_index(\"Date\", inplace = True)\n",
    "data2.head()"
   ]
  },
  {
   "cell_type": "markdown",
   "id": "heated-sense",
   "metadata": {
    "papermill": {
     "duration": 0.017323,
     "end_time": "2021-04-03T14:17:19.592544",
     "exception": false,
     "start_time": "2021-04-03T14:17:19.575221",
     "status": "completed"
    },
    "tags": []
   },
   "source": [
    "### Saving the dataset..... "
   ]
  },
  {
   "cell_type": "code",
   "execution_count": 20,
   "id": "thermal-colorado",
   "metadata": {
    "execution": {
     "iopub.execute_input": "2021-04-03T14:17:19.645724Z",
     "iopub.status.busy": "2021-04-03T14:17:19.643307Z",
     "iopub.status.idle": "2021-04-03T14:17:19.659903Z",
     "shell.execute_reply": "2021-04-03T14:17:19.659153Z"
    },
    "papermill": {
     "duration": 0.049784,
     "end_time": "2021-04-03T14:17:19.660072",
     "exception": false,
     "start_time": "2021-04-03T14:17:19.610288",
     "status": "completed"
    },
    "tags": []
   },
   "outputs": [],
   "source": [
    "data2.to_csv(\"Previous30DayClose%.csv\", index=True)"
   ]
  }
 ],
 "metadata": {
  "kernelspec": {
   "display_name": "Python 3",
   "language": "python",
   "name": "python3"
  },
  "language_info": {
   "codemirror_mode": {
    "name": "ipython",
    "version": 3
   },
   "file_extension": ".py",
   "mimetype": "text/x-python",
   "name": "python",
   "nbconvert_exporter": "python",
   "pygments_lexer": "ipython3",
   "version": "3.7.9"
  },
  "papermill": {
   "default_parameters": {},
   "duration": 8.460935,
   "end_time": "2021-04-03T14:17:20.287449",
   "environment_variables": {},
   "exception": null,
   "input_path": "__notebook__.ipynb",
   "output_path": "__notebook__.ipynb",
   "parameters": {},
   "start_time": "2021-04-03T14:17:11.826514",
   "version": "2.3.2"
  }
 },
 "nbformat": 4,
 "nbformat_minor": 5
}
